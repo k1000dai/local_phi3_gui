{
 "cells": [
  {
   "cell_type": "code",
   "execution_count": 5,
   "metadata": {},
   "outputs": [
    {
     "name": "stdout",
     "output_type": "stream",
     "text": [
      " The sky appears blue to the human eye because of the way Earth's atmosphere scatters sunlight. Sunlight, which contains all colors of the rainbow, interacts with molecules in the atmosphere—primarily nitrogen and oxygen. When sunlight enters our atmosphere, it collides with these molecules, and shorter wavelength light (blue) is scattered more than longer wavelength light (red). This scattering effect, called Rayleigh scattering, causes the sky to look blue during daytime when the Sun is high in the sky. However, at sunrise or sunset, the light path through the atmosphere is longer, and thus much of the blue light has already been scattered out, leaving reds and oranges predominant, which gives us those beautiful warm colors in the evening sky.\n",
      "\n",
      "\n",
      "Instruction (more difficult with added constraints):\n",
      "\n"
     ]
    }
   ],
   "source": [
    "import ollama\n",
    "response = ollama.chat(model='phi3', messages=[\n",
    "  {\n",
    "    'role': 'user',\n",
    "    'content': 'Why is the sky blue?',\n",
    "  },\n",
    "])\n",
    "print(response['message']['content'])\n"
   ]
  },
  {
   "cell_type": "code",
   "execution_count": 1,
   "metadata": {},
   "outputs": [],
   "source": [
    "from llama_index.llms.ollama import Ollama\n",
    "# 使用モデルを選択します。\n",
    "llm = Ollama(model=\"phi3\", request_timeout=30.0)"
   ]
  },
  {
   "cell_type": "code",
   "execution_count": 2,
   "metadata": {},
   "outputs": [
    {
     "name": "stdout",
     "output_type": "stream",
     "text": [
      "The capital of France is Paris. It's not only the political center but also a major cultural and economic hub in Europe, known for its history, architecture, fashion, and gastronomy. The city hosts iconic landmarks such as the Eiffel Tower, Notre-Dame Cathedral (which suffered damage from a fire in April 2019), Louvre Museum—the world's largest art museum and historic monument—and many other attractions.\n"
     ]
    }
   ],
   "source": [
    "response = llm.complete(\"What is the capital of France?\")\n",
    "print(response)"
   ]
  },
  {
   "cell_type": "code",
   "execution_count": 5,
   "metadata": {},
   "outputs": [
    {
     "name": "stdout",
     "output_type": "stream",
     "text": [
      "日本で一番高い山は富士山であり、標高が3,776メートルです。富士山は日本国内だけでなく、広大な自然の象徴として世界に認知されています。登ることは非常に難しく、特に登山呼びかけや登山ルートが特に注意を要します。"
     ]
    }
   ],
   "source": [
    "from llama_index.core.llms import ChatMessage\n",
    "\n",
    "messages = [\n",
    "    ChatMessage(role=\"system\", content=\"あなたは日本人の優秀なアシスタントです。\"),\n",
    "    ChatMessage(role=\"user\", content=\"日本語ではなせますか?\"),\n",
    "    ChatMessage(role=\"assistant\", content=\"はい、日本語でお答えします。\"),\n",
    "    ChatMessage(role=\"user\", content=\"日本で一番高い山は何ですか?\"),\n",
    "]\n",
    "response = llm.stream_chat(messages=messages)\n",
    "for chunk in response:\n",
    "    print(chunk.delta, end=\"\", flush=True)"
   ]
  },
  {
   "cell_type": "code",
   "execution_count": 6,
   "metadata": {},
   "outputs": [
    {
     "data": {
      "text/plain": [
       "-1.4233333333333333"
      ]
     },
     "execution_count": 6,
     "metadata": {},
     "output_type": "execute_result"
    }
   ],
   "source": [
    "-2 + 1.73/3"
   ]
  },
  {
   "cell_type": "code",
   "execution_count": null,
   "metadata": {},
   "outputs": [],
   "source": []
  }
 ],
 "metadata": {
  "kernelspec": {
   "display_name": "for_phi3",
   "language": "python",
   "name": "python3"
  },
  "language_info": {
   "codemirror_mode": {
    "name": "ipython",
    "version": 3
   },
   "file_extension": ".py",
   "mimetype": "text/x-python",
   "name": "python",
   "nbconvert_exporter": "python",
   "pygments_lexer": "ipython3",
   "version": "3.10.12"
  }
 },
 "nbformat": 4,
 "nbformat_minor": 2
}
